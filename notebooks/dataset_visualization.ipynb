{
 "cells": [
  {
   "cell_type": "code",
   "execution_count": 1,
   "id": "3afce953",
   "metadata": {},
   "outputs": [
    {
     "name": "stderr",
     "output_type": "stream",
     "text": [
      "/data2/Gaurav/Babu/Langchain/lang/lib/python3.11/site-packages/tqdm/auto.py:21: TqdmWarning: IProgress not found. Please update jupyter and ipywidgets. See https://ipywidgets.readthedocs.io/en/stable/user_install.html\n",
      "  from .autonotebook import tqdm as notebook_tqdm\n",
      "Token indices sequence length is longer than the specified maximum sequence length for this model (233859 > 131072). Running this sequence through the model will result in indexing errors\n"
     ]
    },
    {
     "name": "stdout",
     "output_type": "stream",
     "text": [
      "Max tokens: 233859\n",
      "Min tokens: 18\n",
      "Avg tokens: 2587.28\n"
     ]
    }
   ],
   "source": [
    "import json\n",
    "from statistics import mean\n",
    "from transformers import AutoTokenizer\n",
    "\n",
    "# Load tokenizer for LLaMA-8B\n",
    "tokenizer = AutoTokenizer.from_pretrained(\"meta-llama/Llama-3.1-8B-Instruct\")\n",
    "\n",
    "# Load dataset\n",
    "with open(\"../LLaMA-Factory/data/xfact_train_with_sentence_level_chunked_retrieved_evidence.json\", \"r\", encoding=\"utf-8\") as f:\n",
    "    data = json.load(f)\n",
    "\n",
    "# Count tokens for each \"input\"\n",
    "token_counts = []\n",
    "for item in data:\n",
    "    text = item[\"input\"]\n",
    "    tokens = tokenizer.encode(text, add_special_tokens=False)\n",
    "    token_counts.append(len(tokens))\n",
    "\n",
    "# Compute stats\n",
    "max_tokens = max(token_counts)\n",
    "min_tokens = min(token_counts)\n",
    "avg_tokens = mean(token_counts)\n",
    "\n",
    "print(f\"Max tokens: {max_tokens}\")\n",
    "print(f\"Min tokens: {min_tokens}\")\n",
    "print(f\"Avg tokens: {avg_tokens:.2f}\")\n"
   ]
  }
 ],
 "metadata": {
  "kernelspec": {
   "display_name": "lang",
   "language": "python",
   "name": "python3"
  },
  "language_info": {
   "codemirror_mode": {
    "name": "ipython",
    "version": 3
   },
   "file_extension": ".py",
   "mimetype": "text/x-python",
   "name": "python",
   "nbconvert_exporter": "python",
   "pygments_lexer": "ipython3",
   "version": "3.11.4"
  }
 },
 "nbformat": 4,
 "nbformat_minor": 5
}
